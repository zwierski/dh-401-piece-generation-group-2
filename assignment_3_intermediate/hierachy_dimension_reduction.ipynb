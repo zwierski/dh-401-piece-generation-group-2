{
 "cells": [
  {
   "cell_type": "code",
   "execution_count": 1,
   "metadata": {},
   "outputs": [],
   "source": [
    "import pandas as pd\n",
    "import numpy as np\n",
    "import matplotlib.pyplot as plt\n",
    "import seaborn as sns\n",
    "%matplotlib inline"
   ]
  },
  {
   "cell_type": "code",
   "execution_count": 2,
   "metadata": {},
   "outputs": [
    {
     "data": {
      "text/html": [
       "<div>\n",
       "<style scoped>\n",
       "    .dataframe tbody tr th:only-of-type {\n",
       "        vertical-align: middle;\n",
       "    }\n",
       "\n",
       "    .dataframe tbody tr th {\n",
       "        vertical-align: top;\n",
       "    }\n",
       "\n",
       "    .dataframe thead th {\n",
       "        text-align: right;\n",
       "    }\n",
       "</style>\n",
       "<table border=\"1\" class=\"dataframe\">\n",
       "  <thead>\n",
       "    <tr style=\"text-align: right;\">\n",
       "      <th></th>\n",
       "      <th>piece</th>\n",
       "      <th>beats</th>\n",
       "      <th>pitches</th>\n",
       "      <th>beat_pitch</th>\n",
       "    </tr>\n",
       "  </thead>\n",
       "  <tbody>\n",
       "    <tr>\n",
       "      <th>0</th>\n",
       "      <td>./abc/_Polonäs_sexdregasamlingen_del_2_nr_43_9...</td>\n",
       "      <td>[[1, 5, 7, 9, 11], [1, 3, 5, 7, 9, 11], [1, 5,...</td>\n",
       "      <td>[[74, 69, 67, 66, 64], [62, 79, 78, 76, 78, 76...</td>\n",
       "      <td>[[(1, 74), (5, 69), (7, 67), (9, 66), (11, 64)...</td>\n",
       "    </tr>\n",
       "    <tr>\n",
       "      <th>1</th>\n",
       "      <td>./abc/Pollonesse_ur_Andreas_Dahlgrens_notbok_n...</td>\n",
       "      <td>[[1, 3, 5, 7, 9, 11], [1, 2, 3, 4, 5], [1, 1, ...</td>\n",
       "      <td>[[67, 79, 79, 78, 79, 76], [76, 78, 79, 76, 74...</td>\n",
       "      <td>[[(1, 67), (3, 79), (5, 79), (7, 78), (9, 79),...</td>\n",
       "    </tr>\n",
       "    <tr>\n",
       "      <th>2</th>\n",
       "      <td>./abc/Polska_efter_Anders_Gustaf_Andersson_0ac...</td>\n",
       "      <td>[[1, 3, 5, 7, 9, 11], [1, 3, 4, 5, 9], [1, 1, ...</td>\n",
       "      <td>[[81, 76, 77, 76, 77, 79], [81, 77, 81, 79, 76...</td>\n",
       "      <td>[[(1, 81), (3, 76), (5, 77), (7, 76), (9, 77),...</td>\n",
       "    </tr>\n",
       "    <tr>\n",
       "      <th>3</th>\n",
       "      <td>./abc/Polonäs_9c99ae.abc</td>\n",
       "      <td>[[1, 2, 3, 4, 5, 7, 9, 10, 11, 12], [1, 4, 5, ...</td>\n",
       "      <td>[[74, 72, 70, 69, 67, 62, 60, 58, 57, 55], [67...</td>\n",
       "      <td>[[(1, 74), (2, 72), (3, 70), (4, 69), (5, 67),...</td>\n",
       "    </tr>\n",
       "    <tr>\n",
       "      <th>4</th>\n",
       "      <td>./abc/_Polonäs_sexdregasamlingen_del_2_nr_76_5...</td>\n",
       "      <td>[[1, 3, 4, 5, 7, 9], [1, 3, 4, 5, 7, 8, 9], [1...</td>\n",
       "      <td>[[79, 78, 76, 74, 72, 71], [67, 67, 71, 69, 69...</td>\n",
       "      <td>[[(1, 79), (3, 78), (4, 76), (5, 74), (7, 72),...</td>\n",
       "    </tr>\n",
       "  </tbody>\n",
       "</table>\n",
       "</div>"
      ],
      "text/plain": [
       "                                               piece  \\\n",
       "0  ./abc/_Polonäs_sexdregasamlingen_del_2_nr_43_9...   \n",
       "1  ./abc/Pollonesse_ur_Andreas_Dahlgrens_notbok_n...   \n",
       "2  ./abc/Polska_efter_Anders_Gustaf_Andersson_0ac...   \n",
       "3                           ./abc/Polonäs_9c99ae.abc   \n",
       "4  ./abc/_Polonäs_sexdregasamlingen_del_2_nr_76_5...   \n",
       "\n",
       "                                               beats  \\\n",
       "0  [[1, 5, 7, 9, 11], [1, 3, 5, 7, 9, 11], [1, 5,...   \n",
       "1  [[1, 3, 5, 7, 9, 11], [1, 2, 3, 4, 5], [1, 1, ...   \n",
       "2  [[1, 3, 5, 7, 9, 11], [1, 3, 4, 5, 9], [1, 1, ...   \n",
       "3  [[1, 2, 3, 4, 5, 7, 9, 10, 11, 12], [1, 4, 5, ...   \n",
       "4  [[1, 3, 4, 5, 7, 9], [1, 3, 4, 5, 7, 8, 9], [1...   \n",
       "\n",
       "                                             pitches  \\\n",
       "0  [[74, 69, 67, 66, 64], [62, 79, 78, 76, 78, 76...   \n",
       "1  [[67, 79, 79, 78, 79, 76], [76, 78, 79, 76, 74...   \n",
       "2  [[81, 76, 77, 76, 77, 79], [81, 77, 81, 79, 76...   \n",
       "3  [[74, 72, 70, 69, 67, 62, 60, 58, 57, 55], [67...   \n",
       "4  [[79, 78, 76, 74, 72, 71], [67, 67, 71, 69, 69...   \n",
       "\n",
       "                                          beat_pitch  \n",
       "0  [[(1, 74), (5, 69), (7, 67), (9, 66), (11, 64)...  \n",
       "1  [[(1, 67), (3, 79), (5, 79), (7, 78), (9, 79),...  \n",
       "2  [[(1, 81), (3, 76), (5, 77), (7, 76), (9, 77),...  \n",
       "3  [[(1, 74), (2, 72), (3, 70), (4, 69), (5, 67),...  \n",
       "4  [[(1, 79), (3, 78), (4, 76), (5, 74), (7, 72),...  "
      ]
     },
     "execution_count": 2,
     "metadata": {},
     "output_type": "execute_result"
    }
   ],
   "source": [
    "# Read the data\n",
    "data = pd.read_csv('../train.csv')\n",
    "data.head()"
   ]
  },
  {
   "cell_type": "code",
   "execution_count": 3,
   "metadata": {},
   "outputs": [],
   "source": [
    "import ast\n",
    "# change the note column to list\n",
    "data['beats'] = data['beats'].apply(ast.literal_eval)\n",
    "data['pitches'] = data['pitches'].apply(ast.literal_eval)\n",
    "data['beat_pitch'] = data['beat_pitch'].apply(ast.literal_eval)"
   ]
  },
  {
   "cell_type": "code",
   "execution_count": null,
   "metadata": {},
   "outputs": [],
   "source": []
  }
 ],
 "metadata": {
  "kernelspec": {
   "display_name": "base",
   "language": "python",
   "name": "python3"
  },
  "language_info": {
   "codemirror_mode": {
    "name": "ipython",
    "version": 3
   },
   "file_extension": ".py",
   "mimetype": "text/x-python",
   "name": "python",
   "nbconvert_exporter": "python",
   "pygments_lexer": "ipython3",
   "version": "3.8.5"
  },
  "orig_nbformat": 4
 },
 "nbformat": 4,
 "nbformat_minor": 2
}
