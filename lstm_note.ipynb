{
 "cells": [
  {
   "cell_type": "code",
   "execution_count": 1,
   "id": "7e6a9eb0",
   "metadata": {},
   "outputs": [],
   "source": [
    "import torch\n",
    "from torch import nn\n",
    "import pandas as pd\n",
    "import numpy as np\n",
    "import matplotlib.pyplot as plt\n",
    "import math\n",
    "import os\n",
    "import random\n",
    "import ast\n",
    "import music21\n",
    "import textract\n",
    "import pathlib\n",
    "from collections import defaultdict\n",
    "from collections import Counter\n",
    "import networkx as nx\n",
    "import seaborn as sns"
   ]
  },
  {
   "cell_type": "code",
   "execution_count": 12,
   "id": "997cad85",
   "metadata": {},
   "outputs": [],
   "source": [
    "data_train = pd.read_csv('./train.csv')\n",
    "data_train['beat_pitch'] = data_train['beat_pitch'].apply(ast.literal_eval)\n",
    "data_train['pitches'] = data_train['pitches'].apply(ast.literal_eval)"
   ]
  },
  {
   "cell_type": "code",
   "execution_count": 15,
   "id": "d0319bd9",
   "metadata": {},
   "outputs": [
    {
     "name": "stdout",
     "output_type": "stream",
     "text": [
      "89\n",
      "0\n"
     ]
    }
   ],
   "source": [
    "high=0\n",
    "low=0\n",
    "for i in range(len(data_train['pitches'])):\n",
    "    piece=data_train['pitches'][i]  \n",
    "    piece=np.array(sum(piece,[]))    \n",
    "    if high<np.max(piece):\n",
    "        high=np.max(piece)\n",
    "    if low>np.min(piece):\n",
    "        low=np.min(piece)\n",
    "print(high)\n",
    "print(low)"
   ]
  },
  {
   "cell_type": "code",
   "execution_count": 16,
   "id": "6731da58",
   "metadata": {},
   "outputs": [],
   "source": [
    "def format_transition_1(piece):\n",
    "    # Transfer the beat_pitch format to 12-position 1-12 scale format\n",
    "    # arg: 1.piece: one piece of music in beat_pitch format\n",
    "    # return: 1.re: the transfer format of the piece, re is in shape of number_of_bars * 12\n",
    "    re=np.zeros((len(piece),12))\n",
    "    for i in range(len(piece)):\n",
    "        bar=piece[i]\n",
    "        for j in range(len(bar)):            \n",
    "            re[i][bar[j][0]-1]=bar[j][1]/high\n",
    "    return re"
   ]
  },
  {
   "cell_type": "code",
   "execution_count": 25,
   "id": "9bd53c67",
   "metadata": {},
   "outputs": [],
   "source": [
    "INPUT_SIZE=12    # number of notes for one prediction\n",
    "HIDDEN_SIZE=15   # size of the hidden units\n",
    "NUM_LAYERS=1\n",
    "NUM_DIRECTION=1\n",
    "Bidirectional=False\n",
    "SEQ_LEN=8    # number of bars for one prediction\n",
    "BATCH_SIZE=50\n",
    "OUTPUT_SIZE=12    # number of notes for predicted result\n",
    "lr=0.001\n",
    "if(NUM_DIRECTION==1):\n",
    "    Bidirectional = False\n",
    "else:\n",
    "    Bidirectional = True\n",
    "ITERATION=5\n",
    "EPOCH=5\n",
    "EPOCH_LOSS_FIG_POSITION=\".//loss\""
   ]
  },
  {
   "cell_type": "code",
   "execution_count": 26,
   "id": "f39b08e3",
   "metadata": {},
   "outputs": [],
   "source": [
    "class LSTM(nn.Module):\n",
    "    def __init__(self, INPUT_SIZE,HIDDEN_SIZE,NUM_LAYERS,Bidirectional):\n",
    "        super(LSTM, self).__init__()\n",
    "\n",
    "        self.LSTM = nn.LSTM(\n",
    "            input_size=INPUT_SIZE,\n",
    "            hidden_size=HIDDEN_SIZE,\n",
    "            num_layers=NUM_LAYERS,\n",
    "            bias=True,\n",
    "            batch_first=True,\n",
    "            dropout=0,\n",
    "            bidirectional=Bidirectional,\n",
    "            proj_size=0\n",
    "        )\n",
    "\n",
    "        self.out = nn.Linear(HIDDEN_SIZE*SEQ_LEN,OUTPUT_SIZE)\n",
    "\n",
    "    def forward(self, x, hidden_state):\n",
    "        output, h_state = self.LSTM(x,hidden_state)\n",
    "        outs = []  #for different batch\n",
    "        for time in range(output.size(0)):\n",
    "            outs.append(self.out(output[time, :, :].reshape(-1)))            \n",
    "        return torch.stack(outs, dim=1), h_state"
   ]
  },
  {
   "cell_type": "code",
   "execution_count": 27,
   "id": "f7dc5bd4",
   "metadata": {},
   "outputs": [],
   "source": [
    "def train():\n",
    "    model = LSTM(INPUT_SIZE,HIDDEN_SIZE,NUM_LAYERS,Bidirectional)\n",
    "    print('model:\\n', model)\n",
    "    criterion = nn.MSELoss()\n",
    "    optimizer = torch.optim.Adam(model.parameters(), lr)\n",
    "    scheduler = torch.optim.lr_scheduler.ExponentialLR(optimizer, gamma=0.9)\n",
    "    h_0 = torch.normal(1, 0.2, size=(NUM_LAYERS*NUM_DIRECTION,BATCH_SIZE, HIDDEN_SIZE))  #initialize hidden_state\n",
    "    c_0 = torch.normal(1, 0.2, size=(NUM_LAYERS*NUM_DIRECTION,BATCH_SIZE, HIDDEN_SIZE))\n",
    "    hidden_state=(h_0,c_0)   \n",
    "      \n",
    "    for ep in range(1,EPOCH+1):\n",
    "        loss_epoch=[]   \n",
    "        counter=0\n",
    "        for iter in range(1,ITERATION+1):\n",
    "            x =[]\n",
    "            y=[]    \n",
    "            i=0           \n",
    "            while(i!=BATCH_SIZE):                \n",
    "                j=0\n",
    "                piece_now=format_transition_1(data_train['beat_pitch'][counter])     \n",
    "                x_x=[]\n",
    "                try:\n",
    "                    while(j!=SEQ_LEN):                                        \n",
    "                        x_x.append(piece_now[j])                          \n",
    "                        j=j+1  \n",
    "                    a=piece_now[SEQ_LEN] # Just for filter out the piece whose number of bars<SEQ_LEN\n",
    "                except IndexError:\n",
    "                    counter=counter+1  \n",
    "                    continue\n",
    "                counter=counter+1\n",
    "                i=i+1\n",
    "                x.append(x_x)\n",
    "                y.append(piece_now[SEQ_LEN])\n",
    "                \n",
    "                \n",
    "            x=np.array(x)            \n",
    "            x = x.reshape([BATCH_SIZE, SEQ_LEN, INPUT_SIZE])\n",
    "            x=torch.tensor(x,dtype=torch.float32)\n",
    "            y=np.array(y)        \n",
    "            y=y.reshape([INPUT_SIZE,BATCH_SIZE])\n",
    "            y=torch.tensor(y,dtype=torch.float32)\n",
    "            output, hidden_state = model(x, hidden_state)           \n",
    "            h_0, c_0 = hidden_state\n",
    "            h_0.detach_()\n",
    "            c_0.detach_()\n",
    "            hidden_state = (h_0, c_0)\n",
    "            print(iter)           \n",
    "            model.zero_grad()\n",
    "            loss=criterion(output, y)\n",
    "            loss_epoch.append(loss.item())\n",
    "            print(\"loss: \"+str(loss))\n",
    "            torch.autograd.set_detect_anomaly(True)\n",
    "            #with torch.autograd.detect_anomaly():\n",
    "                #loss.backward()\n",
    "            loss.backward()\n",
    "            nn.utils.clip_grad_norm_(model.parameters(),max_norm=2)\n",
    "            optimizer.step()\n",
    "        plot_EPOCH_LOSS(loss_epoch,ep)\n",
    "        scheduler.step()\n",
    "\n"
   ]
  },
  {
   "cell_type": "code",
   "execution_count": 28,
   "id": "25876d2d",
   "metadata": {},
   "outputs": [
    {
     "name": "stdout",
     "output_type": "stream",
     "text": [
      "model:\n",
      " LSTM(\n",
      "  (LSTM): LSTM(12, 15, batch_first=True)\n",
      "  (out): Linear(in_features=120, out_features=12, bias=True)\n",
      ")\n",
      "1\n",
      "loss: tensor(0.4554, grad_fn=<MseLossBackward>)\n",
      "2\n",
      "loss: tensor(0.5235, grad_fn=<MseLossBackward>)\n",
      "3\n",
      "loss: tensor(0.4503, grad_fn=<MseLossBackward>)\n",
      "4\n",
      "loss: tensor(0.4583, grad_fn=<MseLossBackward>)\n",
      "5\n",
      "loss: tensor(0.4408, grad_fn=<MseLossBackward>)\n",
      "1\n",
      "loss: tensor(0.3675, grad_fn=<MseLossBackward>)\n",
      "2\n",
      "loss: tensor(0.4203, grad_fn=<MseLossBackward>)\n",
      "3\n",
      "loss: tensor(0.3630, grad_fn=<MseLossBackward>)\n",
      "4\n",
      "loss: tensor(0.3708, grad_fn=<MseLossBackward>)\n",
      "5\n",
      "loss: tensor(0.3556, grad_fn=<MseLossBackward>)\n",
      "1\n",
      "loss: tensor(0.2963, grad_fn=<MseLossBackward>)\n",
      "2\n",
      "loss: tensor(0.3380, grad_fn=<MseLossBackward>)\n",
      "3\n",
      "loss: tensor(0.2942, grad_fn=<MseLossBackward>)\n",
      "4\n",
      "loss: tensor(0.3000, grad_fn=<MseLossBackward>)\n",
      "5\n",
      "loss: tensor(0.2862, grad_fn=<MseLossBackward>)\n",
      "1\n",
      "loss: tensor(0.2406, grad_fn=<MseLossBackward>)\n",
      "2\n",
      "loss: tensor(0.2699, grad_fn=<MseLossBackward>)\n",
      "3\n",
      "loss: tensor(0.2397, grad_fn=<MseLossBackward>)\n",
      "4\n",
      "loss: tensor(0.2433, grad_fn=<MseLossBackward>)\n",
      "5\n",
      "loss: tensor(0.2312, grad_fn=<MseLossBackward>)\n",
      "1\n",
      "loss: tensor(0.2005, grad_fn=<MseLossBackward>)\n",
      "2\n",
      "loss: tensor(0.2171, grad_fn=<MseLossBackward>)\n",
      "3\n",
      "loss: tensor(0.2011, grad_fn=<MseLossBackward>)\n",
      "4\n",
      "loss: tensor(0.2033, grad_fn=<MseLossBackward>)\n",
      "5\n",
      "loss: tensor(0.1934, grad_fn=<MseLossBackward>)\n"
     ]
    },
    {
     "data": {
      "image/png": "[encoded data removed]",
      "text/plain": [
       "<Figure size 432x288 with 1 Axes>"
      ]
     },
     "metadata": {
      "image/png": {
       "height": 293,
       "width": 408
      },
      "needs_background": "light"
     },
     "output_type": "display_data"
    }
   ],
   "source": [
    "def plot_EPOCH_LOSS(loss_list,epoch):\n",
    "    plt.cla()\n",
    "    x1 = range(1, len(loss_list)+1)\n",
    "    y1 = loss_list\n",
    "    plt.title('Train loss in epoch {}'.format(epoch), fontsize=20)\n",
    "    plt.plot(x1, y1, '.-')\n",
    "    plt.xlabel('Iteration', fontsize=20)\n",
    "    plt.ylabel('Train loss', fontsize=20)\n",
    "    plt.grid()\n",
    "    plt.savefig(EPOCH_LOSS_FIG_POSITION+\"//\"+\"{}.png\".format(epoch))\n",
    "\n",
    "train()"
   ]
  },
  {
   "cell_type": "code",
   "execution_count": null,
   "id": "f691388b",
   "metadata": {},
   "outputs": [],
   "source": []
  },
  {
   "cell_type": "code",
   "execution_count": null,
   "id": "990df1c0",
   "metadata": {},
   "outputs": [],
   "source": []
  }
 ],
 "metadata": {
  "kernelspec": {
   "display_name": "Python 3",
   "language": "python",
   "name": "python3"
  },
  "language_info": {
   "codemirror_mode": {
    "name": "ipython",
    "version": 3
   },
   "file_extension": ".py",
   "mimetype": "text/x-python",
   "name": "python",
   "nbconvert_exporter": "python",
   "pygments_lexer": "ipython3",
   "version": "3.8.3"
  }
 },
 "nbformat": 4,
 "nbformat_minor": 5
}
